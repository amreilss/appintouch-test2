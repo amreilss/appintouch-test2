{
 "cells": [
  {
   "cell_type": "markdown",
   "id": "f3cd2989",
   "metadata": {},
   "source": [
    "# ข้อ 4-5"
   ]
  },
  {
   "cell_type": "code",
   "execution_count": 3,
   "id": "029804f8",
   "metadata": {},
   "outputs": [
    {
     "data": {
      "text/plain": [
       "<sqlite3.Cursor at 0x256c7cc39c0>"
      ]
     },
     "execution_count": 3,
     "metadata": {},
     "output_type": "execute_result"
    }
   ],
   "source": [
    "import sqlite3\n",
    "import pandas as pd\n",
    "\n",
    "# สร้างฐานข้อมูล SQLite ในหน่วยความจำ (หรือใช้ไฟล์จริง เช่น 'database.db')\n",
    "conn = sqlite3.connect(\":memory:\")\n",
    "cursor = conn.cursor()\n",
    "\n",
    "# สร้างตาราง Customer\n",
    "cursor.execute('''\n",
    "CREATE TABLE Customer (\n",
    "    ID TEXT PRIMARY KEY,\n",
    "    Name TEXT,\n",
    "    Email TEXT,\n",
    "    CountryCode TEXT,\n",
    "    Budget INTEGER,\n",
    "    Used INTEGER\n",
    ");\n",
    "''')\n",
    "\n",
    "# เพิ่มข้อมูลตัวอย่าง\n",
    "customers_data = [\n",
    "    (\"C001\", \"Will Peter\", \"will.p@hotmail.com\", \"TH\", 1000000, 600000),\n",
    "    (\"C002\", \"John Smith\", \"john.smith@hotmail.com\", \"EN\", 2000000, 800000),\n",
    "    (\"C003\", \"Jame Born\", \"jame.born@hotmail.com\", \"US\", 3000000, 600000),\n",
    "    (\"C004\", \"Charlie Angel\", \"charlie.angel@hotmail.com\", \"US\", 4000000, 1000000),\n",
    "    (\"C005\", \"Mickey Brown\", \"mickey.b@hotmail.com\", \"JP\", 5000000, 1000000)\n",
    "]\n",
    "\n",
    "cursor.executemany(\"INSERT INTO Customer VALUES (?, ?, ?, ?, ?, ?)\", customers_data)\n",
    "\n",
    "# สร้างตาราง Order\n",
    "cursor.execute('''\n",
    "CREATE TABLE OrderTable (\n",
    "    ID TEXT PRIMARY KEY,\n",
    "    Date TEXT,\n",
    "    CustomerID TEXT,\n",
    "    Amount INTEGER,\n",
    "    FOREIGN KEY (CustomerID) REFERENCES Customer(ID)\n",
    ");\n",
    "''')\n",
    "\n",
    "# เพิ่มข้อมูลตัวอย่าง\n",
    "orders_data = [\n",
    "    (\"O001\", \"2019-10-08\", \"C002\", 50000),\n",
    "    (\"O002\", \"2019-10-08\", \"C002\", 45000),\n",
    "    (\"O003\", \"2019-11-20\", \"C003\", 50000),\n",
    "    (\"O004\", \"2019-05-20\", \"C004\", 40000)\n",
    "]\n",
    "\n",
    "cursor.executemany(\"INSERT INTO OrderTable VALUES (?, ?, ?, ?)\", orders_data)\n"
   ]
  },
  {
   "cell_type": "code",
   "execution_count": 4,
   "id": "349675f8",
   "metadata": {},
   "outputs": [
    {
     "name": "stdout",
     "output_type": "stream",
     "text": [
      "Customers with Used > 500,000:\n",
      "     ID           Name                      Email CountryCode   Budget  \\\n",
      "0  C001     Will Peter         will.p@hotmail.com          TH  1000000   \n",
      "1  C002     John Smith     john.smith@hotmail.com          EN  2000000   \n",
      "2  C003      Jame Born      jame.born@hotmail.com          US  3000000   \n",
      "3  C004  Charlie Angel  charlie.angel@hotmail.com          US  4000000   \n",
      "4  C005   Mickey Brown       mickey.b@hotmail.com          JP  5000000   \n",
      "\n",
      "      Used  \n",
      "0   600000  \n",
      "1   800000  \n",
      "2   600000  \n",
      "3  1000000  \n",
      "4  1000000  \n"
     ]
    }
   ],
   "source": [
    "# ---- ข้อ 4: Query ดึงลูกค้าที่มีค่า Used > 500,000 ----\n",
    "query_4 = \"SELECT * FROM Customer WHERE Used > 500000;\"\n",
    "df_customers = pd.read_sql_query(query_4, conn)\n",
    "print(\"Customers with Used > 500,000:\")\n",
    "print(df_customers)"
   ]
  },
  {
   "cell_type": "code",
   "execution_count": 5,
   "id": "0702d1d6",
   "metadata": {},
   "outputs": [
    {
     "name": "stdout",
     "output_type": "stream",
     "text": [
      "\n",
      "Joined Customer and Order Data:\n",
      "     ID           Name                      Email CountryCode   Budget  \\\n",
      "0  C002     John Smith     john.smith@hotmail.com          EN  2000000   \n",
      "1  C002     John Smith     john.smith@hotmail.com          EN  2000000   \n",
      "2  C003      Jame Born      jame.born@hotmail.com          US  3000000   \n",
      "3  C004  Charlie Angel  charlie.angel@hotmail.com          US  4000000   \n",
      "\n",
      "      Used OrderID        Date  Amount  \n",
      "0   800000    O001  2019-10-08   50000  \n",
      "1   800000    O002  2019-10-08   45000  \n",
      "2   600000    O003  2019-11-20   50000  \n",
      "3  1000000    O004  2019-05-20   40000  \n"
     ]
    }
   ],
   "source": [
    "# ---- ข้อ 5: Query เชื่อม Customer และ Order ----\n",
    "query_5 = \"\"\"\n",
    "SELECT Customer.ID, Customer.Name, Customer.Email, Customer.CountryCode, \n",
    "       Customer.Budget, Customer.Used, \n",
    "       OrderTable.ID AS OrderID, OrderTable.Date, OrderTable.Amount\n",
    "FROM Customer\n",
    "JOIN OrderTable ON Customer.ID = OrderTable.CustomerID;\n",
    "\"\"\"\n",
    "df_orders = pd.read_sql_query(query_5, conn)\n",
    "print(\"\\nJoined Customer and Order Data:\")\n",
    "print(df_orders)"
   ]
  },
  {
   "cell_type": "code",
   "execution_count": 8,
   "id": "3ef46e3c",
   "metadata": {},
   "outputs": [],
   "source": [
    "# ปิดการเชื่อมต่อฐานข้อมูล\n",
    "conn.close()"
   ]
  },
  {
   "cell_type": "markdown",
   "id": "5f834a7b",
   "metadata": {},
   "source": [
    "# ข้อ 7"
   ]
  },
  {
   "cell_type": "markdown",
   "id": "edf8ea14",
   "metadata": {},
   "source": [
    "ถังน้ำ ใบหนึ่งนึ่บรรจุ 5,832 ลิตร ถ้ามีกมีารนำ น้ำ ที่มีอยู่ใยู่ นถัง ไปใช้ทุกวันตลอดสัปดาห์\n",
    "โดยที่แต่ละวันจะนำ น้ำ ไปใช้หนึ่งนึ่ในสามของปริมาณน้ำ ในถัง\n",
    "อยากทราบว่าเมื่อมื่ครบวันจะมีน้ำมี น้ำ\n",
    "เหลืออยู่ใยู่ นถังกี่ลิตร\n",
    "ให้เขียนฟังฟัก์ชัน y = Calculate(x) โดยใช้ภาษาใดก็ได้ เพื่อแก้ปัญหา"
   ]
  },
  {
   "cell_type": "code",
   "execution_count": 9,
   "id": "4c69ef9c",
   "metadata": {
    "scrolled": true
   },
   "outputs": [
    {
     "name": "stdout",
     "output_type": "stream",
     "text": [
      "Day 1: Used 1944.00 L, Remaining 3888.00 L\n",
      "Day 2: Used 1296.00 L, Remaining 2592.00 L\n",
      "Day 3: Used 864.00 L, Remaining 1728.00 L\n",
      "Day 4: Used 576.00 L, Remaining 1152.00 L\n",
      "Day 5: Used 384.00 L, Remaining 768.00 L\n",
      "Day 6: Used 256.00 L, Remaining 512.00 L\n",
      "Day 7: Used 170.67 L, Remaining 341.33 L\n",
      "\n",
      "🔹 น้ำที่เหลืออยู่หลังจาก 7 วัน: 341.33 ลิตร\n"
     ]
    }
   ],
   "source": [
    "def calculate_water_remaining(initial_volume, days):\n",
    "    remaining = initial_volume\n",
    "    for day in range(1, days + 1):\n",
    "        used_today = remaining / 3  # ใช้ไป 1/3 ของน้ำที่เหลือ\n",
    "        remaining -= used_today\n",
    "        print(f\"Day {day}: Used {used_today:.2f} L, Remaining {remaining:.2f} L\")\n",
    "    return remaining\n",
    "\n",
    "# ค่าเริ่มต้น: 5,832 ลิตร, จำนวนวัน: 7 วัน\n",
    "initial_water = 5832\n",
    "days = 7\n",
    "\n",
    "remaining_water = calculate_water_remaining(initial_water, days)\n",
    "print(f\"\\n🔹 น้ำที่เหลืออยู่หลังจาก {days} วัน: {remaining_water:.2f} ลิตร\")\n"
   ]
  },
  {
   "cell_type": "markdown",
   "id": "35d8e1c1",
   "metadata": {},
   "source": [
    "# ข้อ 8"
   ]
  },
  {
   "cell_type": "markdown",
   "id": "807527d8",
   "metadata": {},
   "source": [
    "ให้เขียนโปรแกรมโดยภาษาใดก็ได้ รับรั Input เป็นตัวเลข 1 ตัว แล้วแสดงเป็นรูปสามเหลี่ยมกลับด้าน"
   ]
  },
  {
   "cell_type": "code",
   "execution_count": 12,
   "id": "b4dcf667",
   "metadata": {},
   "outputs": [
    {
     "name": "stdout",
     "output_type": "stream",
     "text": [
      "Enter number of rows: 10\n",
      "* * * * * * * * * * * * * * * * * * *\n",
      "  * * * * * * * * * * * * * * * * *\n",
      "    * * * * * * * * * * * * * * *\n",
      "      * * * * * * * * * * * * *\n",
      "        * * * * * * * * * * *\n",
      "          * * * * * * * * *\n",
      "            * * * * * * *\n",
      "              * * * * *\n",
      "                * * *\n",
      "                  *\n"
     ]
    }
   ],
   "source": [
    "def inverted_triangle(n):\n",
    "    for i in range(n):\n",
    "        spaces = \" \" * (2 * i)  # เพิ่มช่องว่างด้านหน้า\n",
    "        stars = \"* \" * (2 * (n - i) - 1)  # สร้างจำนวนดาว\n",
    "        print(spaces + stars.strip())  # พิมพ์ผลลัพธ์\n",
    "\n",
    "# รับค่าจำนวนแถวจากผู้ใช้\n",
    "rows = int(input(\"Enter number of rows: \"))\n",
    "inverted_triangle(rows)\n"
   ]
  }
 ],
 "metadata": {
  "kernelspec": {
   "display_name": "Python 3 (ipykernel)",
   "language": "python",
   "name": "python3"
  },
  "language_info": {
   "codemirror_mode": {
    "name": "ipython",
    "version": 3
   },
   "file_extension": ".py",
   "mimetype": "text/x-python",
   "name": "python",
   "nbconvert_exporter": "python",
   "pygments_lexer": "ipython3",
   "version": "3.10.9"
  }
 },
 "nbformat": 4,
 "nbformat_minor": 5
}
